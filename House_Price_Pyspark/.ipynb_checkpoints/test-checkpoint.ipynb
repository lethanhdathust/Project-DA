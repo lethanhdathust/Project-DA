{
 "cells": [
  {
   "cell_type": "code",
   "execution_count": 4,
   "id": "d38749f7-83a0-4a5e-bd2a-7d724f68323e",
   "metadata": {},
   "outputs": [
    {
     "name": "stdout",
     "output_type": "stream",
     "text": [
      "Defaulting to user installation because normal site-packages is not writeable\n",
      "Collecting pyspark\n",
      "  Downloading pyspark-3.5.1.tar.gz (317.0 MB)\n",
      "\u001b[2K     \u001b[90m━━━━━━━━━━━━━━━━━━━━━━━━━━━━━━━━━━━━━━━\u001b[0m \u001b[32m317.0/317.0 MB\u001b[0m \u001b[31m2.4 MB/s\u001b[0m eta \u001b[36m0:00:00\u001b[0m00:01\u001b[0m00:03\u001b[0m\n",
      "\u001b[?25h  Preparing metadata (setup.py) ... \u001b[?25ldone\n",
      "\u001b[?25hCollecting py4j==0.10.9.7\n",
      "  Downloading py4j-0.10.9.7-py2.py3-none-any.whl (200 kB)\n",
      "\u001b[2K     \u001b[90m━━━━━━━━━━━━━━━━━━━━━━━━━━━━━━━━━━━━━━━\u001b[0m \u001b[32m200.5/200.5 KB\u001b[0m \u001b[31m2.6 MB/s\u001b[0m eta \u001b[36m0:00:00\u001b[0ma \u001b[36m0:00:01\u001b[0m\n",
      "\u001b[?25hBuilding wheels for collected packages: pyspark\n",
      "  Building wheel for pyspark (setup.py) ... \u001b[?25ldone\n",
      "\u001b[?25h  Created wheel for pyspark: filename=pyspark-3.5.1-py2.py3-none-any.whl size=317488513 sha256=5e0ab4b0663dd0b421c851359f0c433e0bd1bf9f202ecc263d580d3dd7a16885\n",
      "  Stored in directory: /home/hdoop/.cache/pip/wheels/80/1d/60/2c256ed38dddce2fdd93be545214a63e02fbd8d74fb0b7f3a6\n",
      "Successfully built pyspark\n",
      "Installing collected packages: py4j, pyspark\n",
      "Successfully installed py4j-0.10.9.7 pyspark-3.5.1\n"
     ]
    }
   ],
   "source": [
    "!pip install pyspark\n",
    "!pip install tqdm\n",
    "!pip install cloudscraper\n",
    "!pip install pandas\n",
    "!pip install missingno\n",
    "!pip install numpy"
   ]
  },
  {
   "cell_type": "code",
   "execution_count": 5,
   "id": "34d180e8-0e4f-407b-83bd-71fce02a8484",
   "metadata": {},
   "outputs": [],
   "source": [
    "import pyspark"
   ]
  },
  {
   "cell_type": "code",
   "execution_count": 6,
   "id": "8de7e4e8-9e36-4b54-9304-0de62eac8373",
   "metadata": {},
   "outputs": [],
   "source": [
    "from pyspark.sql import SparkSession"
   ]
  },
  {
   "cell_type": "code",
   "execution_count": 39,
   "id": "8fb2172f-0046-4a2a-ac5e-57b83bcb7b42",
   "metadata": {},
   "outputs": [],
   "source": [
    "\n",
    "spark = SparkSession.builder \\\n",
    "    .master('yarn') \\\n",
    "    .appName('Practice') \\\n",
    "    .getOrCreate()\n"
   ]
  },
  {
   "cell_type": "code",
   "execution_count": 35,
   "id": "a153dd59-f3a6-47f4-8eff-7d824011f676",
   "metadata": {},
   "outputs": [
    {
     "data": {
      "text/html": [
       "\n",
       "            <div>\n",
       "                <p><b>SparkSession - in-memory</b></p>\n",
       "                \n",
       "        <div>\n",
       "            <p><b>SparkContext</b></p>\n",
       "\n",
       "            <p><a href=\"http://master:4040\">Spark UI</a></p>\n",
       "\n",
       "            <dl>\n",
       "              <dt>Version</dt>\n",
       "                <dd><code>v3.4.3</code></dd>\n",
       "              <dt>Master</dt>\n",
       "                <dd><code>local[*]</code></dd>\n",
       "              <dt>AppName</dt>\n",
       "                <dd><code>Pratice</code></dd>\n",
       "            </dl>\n",
       "        </div>\n",
       "        \n",
       "            </div>\n",
       "        "
      ],
      "text/plain": [
       "<pyspark.sql.session.SparkSession at 0x7f107e41a710>"
      ]
     },
     "execution_count": 35,
     "metadata": {},
     "output_type": "execute_result"
    }
   ],
   "source": [
    "spark"
   ]
  },
  {
   "cell_type": "code",
   "execution_count": 17,
   "id": "b16dab56-c286-43b7-8d73-e363111a3020",
   "metadata": {},
   "outputs": [],
   "source": [
    "data = spark.read.option('header','true').csv('data.csv')"
   ]
  },
  {
   "cell_type": "code",
   "execution_count": 21,
   "id": "73b245e6-2579-4066-93e6-689a71dbc898",
   "metadata": {},
   "outputs": [
    {
     "data": {
      "text/plain": [
       "pyspark.sql.dataframe.DataFrame"
      ]
     },
     "execution_count": 21,
     "metadata": {},
     "output_type": "execute_result"
    }
   ],
   "source": [
    "type(data)"
   ]
  },
  {
   "cell_type": "code",
   "execution_count": 23,
   "id": "c9323057-42fe-47f0-9906-d74c74fcb7db",
   "metadata": {},
   "outputs": [
    {
     "name": "stdout",
     "output_type": "stream",
     "text": [
      "root\n",
      " |-- ad_id: string (nullable = true)\n",
      " |-- list_id: string (nullable = true)\n",
      " |-- list_time: string (nullable = true)\n",
      " |-- date: string (nullable = true)\n",
      " |-- account_id: string (nullable = true)\n",
      " |-- account_oid: string (nullable = true)\n",
      " |-- account_name: string (nullable = true)\n",
      " |-- state: string (nullable = true)\n",
      " |-- subject: string (nullable = true)\n",
      " |-- body: string (nullable = true)\n",
      " |-- category: string (nullable = true)\n",
      " |-- category_name: string (nullable = true)\n",
      " |-- area: string (nullable = true)\n",
      " |-- area_name: string (nullable = true)\n",
      " |-- region: string (nullable = true)\n",
      " |-- region_name: string (nullable = true)\n",
      " |-- company_ad: string (nullable = true)\n",
      " |-- type: string (nullable = true)\n",
      " |-- price: string (nullable = true)\n",
      " |-- price_string: string (nullable = true)\n",
      " |-- image: string (nullable = true)\n",
      " |-- webp_image: string (nullable = true)\n",
      " |-- videos: string (nullable = true)\n",
      " |-- number_of_images: string (nullable = true)\n",
      " |-- avatar: string (nullable = true)\n",
      " |-- rooms: string (nullable = true)\n",
      " |-- property_legal_document: string (nullable = true)\n",
      " |-- size: string (nullable = true)\n",
      " |-- region_v2: string (nullable = true)\n",
      " |-- area_v2: string (nullable = true)\n",
      " |-- ward: string (nullable = true)\n",
      " |-- ward_name: string (nullable = true)\n",
      " |-- price_million_per_m2: string (nullable = true)\n",
      " |-- house_type: string (nullable = true)\n",
      " |-- contain_videos: string (nullable = true)\n",
      " |-- location: string (nullable = true)\n",
      " |-- longitude: string (nullable = true)\n",
      " |-- latitude: string (nullable = true)\n",
      " |-- phone_hidden: string (nullable = true)\n",
      " |-- owner: string (nullable = true)\n",
      " |-- protection_entitlement: string (nullable = true)\n",
      " |-- escrow_can_deposit: string (nullable = true)\n",
      " |-- params: string (nullable = true)\n",
      " |-- zero_deposit: string (nullable = true)\n",
      " |-- street_name: string (nullable = true)\n",
      " |-- pty_jupiter: string (nullable = true)\n",
      " |-- label_campaigns: string (nullable = true)\n",
      " |-- ad_labels: string (nullable = true)\n",
      " |-- pty_characteristics: string (nullable = true)\n",
      " |-- seller_info.full_name: string (nullable = true)\n",
      " |-- seller_info.avatar: string (nullable = true)\n",
      " |-- seller_info.sold_ads: string (nullable = true)\n",
      " |-- seller_info.live_ads: string (nullable = true)\n",
      " |-- has_video: string (nullable = true)\n",
      " |-- company_logo: string (nullable = true)\n",
      " |-- land_type: string (nullable = true)\n",
      " |-- streetnumber_display: string (nullable = true)\n",
      " |-- width: string (nullable = true)\n",
      " |-- length: string (nullable = true)\n",
      " |-- toilets: string (nullable = true)\n",
      " |-- floors: string (nullable = true)\n",
      " |-- orig_list_time: string (nullable = true)\n",
      " |-- furnishing_sell: string (nullable = true)\n",
      " |-- living_size: string (nullable = true)\n",
      " |-- special_display_images: string (nullable = true)\n",
      " |-- special_display: string (nullable = true)\n",
      " |-- commercial_type: string (nullable = true)\n",
      " |-- detail_address: string (nullable = true)\n",
      " |-- direction: string (nullable = true)\n",
      " |-- apartment_type: string (nullable = true)\n",
      " |-- property_status: string (nullable = true)\n",
      " |-- street_number: string (nullable = true)\n",
      " |-- projectid: string (nullable = true)\n",
      " |-- project_oid: string (nullable = true)\n",
      " |-- projectimages: string (nullable = true)\n",
      " |-- block: string (nullable = true)\n",
      " |-- floornumber: string (nullable = true)\n",
      " |-- balconydirection: string (nullable = true)\n",
      " |-- unitnumber: string (nullable = true)\n",
      " |-- apartment_feature: string (nullable = true)\n",
      " |-- unitnumber_display: string (nullable = true)\n",
      " |-- shop_alias: string (nullable = true)\n",
      " |-- shop.alias: string (nullable = true)\n",
      " |-- shop.status: string (nullable = true)\n",
      " |-- shop.name: string (nullable = true)\n",
      " |-- shop.address: string (nullable = true)\n",
      " |-- shop.profileImageUrl: string (nullable = true)\n",
      " |-- shop.createdDate: string (nullable = true)\n",
      " |-- shop.modifiedDate: string (nullable = true)\n",
      " |-- shop.urls: string (nullable = true)\n",
      " |-- shop.shopsCategoriesRelationships: string (nullable = true)\n",
      " |-- address: string (nullable = true)\n",
      " |-- property_road_condition: string (nullable = true)\n",
      " |-- property_back_condition: string (nullable = true)\n",
      " |-- size_unit: string (nullable = true)\n",
      " |-- street_id: string (nullable = true)\n",
      " |-- land_feature: string (nullable = true)\n",
      "\n"
     ]
    }
   ],
   "source": [
    "data.printSchema()"
   ]
  }
 ],
 "metadata": {
  "kernelspec": {
   "display_name": "Python 3 (ipykernel)",
   "language": "python",
   "name": "python3"
  },
  "language_info": {
   "codemirror_mode": {
    "name": "ipython",
    "version": 3
   },
   "file_extension": ".py",
   "mimetype": "text/x-python",
   "name": "python",
   "nbconvert_exporter": "python",
   "pygments_lexer": "ipython3",
   "version": "3.10.12"
  }
 },
 "nbformat": 4,
 "nbformat_minor": 5
}
